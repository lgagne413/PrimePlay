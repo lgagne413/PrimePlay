{
 "cells": [
  {
   "cell_type": "code",
   "execution_count": 59,
   "id": "a56fea44-389e-49a1-8bfd-cd7c599d2611",
   "metadata": {},
   "outputs": [
    {
     "name": "stdout",
     "output_type": "stream",
     "text": [
      "The autoreload extension is already loaded. To reload it, use:\n",
      "  %reload_ext autoreload\n"
     ]
    }
   ],
   "source": [
    "import prime_class as pc\n",
    "%load_ext autoreload\n",
    "%autoreload 2"
   ]
  },
  {
   "cell_type": "code",
   "execution_count": 169,
   "id": "d980e374-8890-4a32-9010-c687b3fe7cd5",
   "metadata": {},
   "outputs": [
    {
     "name": "stdout",
     "output_type": "stream",
     "text": [
      "Finding Combinations  1\n",
      "Found 12 (0.833) Primes for [[2], [3]] in 6 loops\n",
      "Finding Combinations  3\n",
      "Found 14 (0.567) Primes for [[2], [3, 5]] in 8 loops\n",
      "Found 16 (0.433) Primes for [[2, 5], [3]] in 38 loops\n",
      "Found 17 (0.367) Primes for [[2, 3], [5]] in 51 loops\n",
      "Finding Combinations  7\n",
      "Found 6 (0.51) Primes for [[2], [3, 5, 7]] in 8 loops\n",
      "Found 7 (0.348) Primes for [[2, 5, 7], [3]] in 585 loops\n",
      "Found 9 (0.224) Primes for [[2, 3, 7], [5]] in 870 loops\n",
      "Found 7 (0.176) Primes for [[2, 3, 5], [7]] in 1058 loops\n",
      "Found 19 (0.195) Primes for [[2, 3], [5, 7]] in 17 loops\n",
      "Found 19 (0.148) Primes for [[2, 5], [3, 7]] in 18 loops\n",
      "Found 20 (0.138) Primes for [[2, 7], [3, 5]] in 21 loops\n",
      "Finding Combinations  15\n",
      "Found 2 (0.501) Primes for [[2], [3, 5, 7, 11]] in 8 loops\n",
      "Found 0 (0.335) Primes for [[2, 5, 7, 11], [3]] in 17851 loops\n",
      "Found 0 (0.202) Primes for [[2, 3, 7, 11], [5]] in 13210 loops\n",
      "Found 0 (0.146) Primes for [[2, 3, 5, 11], [7]] in 16355 loops\n",
      "Found 1 (0.096) Primes for [[2, 3, 5, 7], [11]] in 20753 loops\n",
      "Found 0 (0.169) Primes for [[2, 3], [5, 7, 11]] in 1 loops\n",
      "Found 9 (0.104) Primes for [[2, 5], [3, 7, 11]] in 14 loops\n",
      "Found 13 (0.077) Primes for [[2, 7], [3, 5, 11]] in 18 loops\n",
      "Found 9 (0.055) Primes for [[2, 11], [3, 5, 7]] in 13 loops\n",
      "Found 13 (0.073) Primes for [[2, 7, 11], [3, 5]] in 36 loops\n",
      "Found 13 (0.057) Primes for [[2, 5, 11], [3, 7]] in 31 loops\n",
      "Found 12 (0.045) Primes for [[2, 5, 7], [3, 11]] in 24 loops\n",
      "Found 11 (0.044) Primes for [[2, 3, 11], [5, 7]] in 18 loops\n",
      "Found 15 (0.042) Primes for [[2, 3, 7], [5, 11]] in 24 loops\n",
      "Found 13 (0.046) Primes for [[2, 3, 5], [7, 11]] in 22 loops\n",
      "Finding Combinations  31\n",
      "Found 0 (0.5) Primes for [[2], [3, 5, 7, 11, 13]] in 1 loops\n",
      "Found 0 (0.333) Primes for [[2, 5, 7, 11, 13], [3]] in 209761 loops\n",
      "Found 0 (0.2) Primes for [[2, 3, 7, 11, 13], [5]] in 163201 loops\n",
      "Found 0 (0.143) Primes for [[2, 3, 5, 11, 13], [7]] in 201601 loops\n",
      "Found 0 (0.091) Primes for [[2, 3, 5, 7, 13], [11]] in 252001 loops\n",
      "Found 0 (0.077) Primes for [[2, 3, 5, 7, 11], [13]] in 268801 loops\n",
      "Found 0 (0.167) Primes for [[2, 3], [5, 7, 11, 13]] in 1 loops\n",
      "Found 0 (0.1) Primes for [[2, 5], [3, 7, 11, 13]] in 1 loops\n",
      "Found 0 (0.072) Primes for [[2, 7], [3, 5, 11, 13]] in 1 loops\n",
      "Found 1 (0.046) Primes for [[2, 11], [3, 5, 7, 13]] in 6 loops\n",
      "Found 0 (0.039) Primes for [[2, 13], [3, 5, 7, 11]] in 1 loops\n",
      "Found 0 (0.067) Primes for [[2, 7, 11, 13], [3, 5]] in 1 loops\n",
      "Found 0 (0.048) Primes for [[2, 5, 11, 13], [3, 7]] in 1 loops\n",
      "Found 0 (0.031) Primes for [[2, 5, 7, 13], [3, 11]] in 1 loops\n",
      "Found 0 (0.027) Primes for [[2, 5, 7, 11], [3, 13]] in 1 loops\n",
      "Found 0 (0.03) Primes for [[2, 3, 11, 13], [5, 7]] in 1 loops\n",
      "Found 0 (0.02) Primes for [[2, 3, 7, 13], [5, 11]] in 1 loops\n",
      "Found 0 (0.018) Primes for [[2, 3, 7, 11], [5, 13]] in 1 loops\n",
      "Found 0 (0.016) Primes for [[2, 3, 5, 13], [7, 11]] in 1 loops\n",
      "Found 0 (0.014) Primes for [[2, 3, 5, 11], [7, 13]] in 1 loops\n",
      "Found 4 (0.012) Primes for [[2, 3, 5, 7], [11, 13]] in 18 loops\n",
      "Found 3 (0.034) Primes for [[2, 3, 5], [7, 11, 13]] in 9 loops\n",
      "Found 5 (0.025) Primes for [[2, 3, 7], [5, 11, 13]] in 11 loops\n",
      "Found 5 (0.017) Primes for [[2, 3, 11], [5, 7, 13]] in 11 loops\n",
      "Found 4 (0.015) Primes for [[2, 3, 13], [5, 7, 11]] in 11 loops\n",
      "Found 6 (0.017) Primes for [[2, 5, 7], [3, 11, 13]] in 13 loops\n",
      "Found 6 (0.013) Primes for [[2, 5, 11], [3, 7, 13]] in 18 loops\n",
      "Found 4 (0.012) Primes for [[2, 5, 13], [3, 7, 11]] in 10 loops\n",
      "Found 4 (0.012) Primes for [[2, 7, 11], [3, 5, 13]] in 14 loops\n",
      "Found 6 (0.012) Primes for [[2, 7, 13], [3, 5, 11]] in 17 loops\n",
      "Found 6 (0.013) Primes for [[2, 11, 13], [3, 5, 7]] in 24 loops\n",
      "Summary:\n",
      "Primes Qty - 44\n",
      "Primes Count - 311\n",
      "Primes Time - 26542837.283\n",
      "Count per Time - 0.0\n",
      "Qty per Time - 0.0\n",
      "(2, 1, 0, 0)                                      (3, 1, 0, 0)\n",
      "(5, 3, 0, 0)                                      (7, 9, 295015, 32779)\n",
      "(11, 11, 2322508, 211137)                         (13, 18, 36450986, 2025054)\n",
      "(17, 18, 555525064, 30862503)                     (19, 15, 57788677, 3852578)\n",
      "(23, 14, 36282406, 2591600)                       (29, 13, 1967347811, 151334447)\n",
      "(31, 14, 565317512, 40379822)                     (37, 14, 36683539, 2620252)\n",
      "(41, 13, 1481874643, 113990357)                   (43, 13, 1481874643, 113990357)\n",
      "(47, 12, 543177555, 45264796)                     (53, 9, 521312296, 57923588)\n",
      "(59, 9, 532181708, 59131300)                      (61, 10, 1007144452, 100714445)\n",
      "(67, 10, 532540696, 53254069)                     (71, 8, 553561544, 69195193)\n",
      "(73, 9, 1006785464, 111865051)                    (79, 9, 510442884, 56715876)\n",
      "(83, 5, 1005349512, 201069902)                    (89, 5, 56142000, 11228400)\n",
      "(97, 3, 508288956, 169429652)                     (101, 3, 982892712, 327630904)\n",
      "(103, 4, 519517356, 129879339)                    (107, 6, 541974156, 90329026)\n",
      "(109, 4, 44913600, 11228400)                      (113, 5, 1005349512, 201069902)\n",
      "(127, 4, 519517356, 129879339)                    (131, 4, 994121112, 248530278)\n",
      "(137, 3, 33685200, 11228400)                      (139, 4, 519517356, 129879339)\n",
      "(149, 3, 508288956, 169429652)                    (151, 6, 1016577912, 169429652)\n",
      "(157, 2, 22456800, 11228400)                      (163, 6, 1491181668, 248530278)\n",
      "(167, 3, 1457496468, 485832156)                   (173, 1, 485832156, 485832156)\n",
      "(179, 1, 485832156, 485832156)                    (181, 1, 485832156, 485832156)\n",
      "(191, 1, 485832156, 485832156)                    (199, 4, 1943328624, 485832156)\n"
     ]
    },
    {
     "data": {
      "text/plain": [
       "True"
      ]
     },
     "execution_count": 169,
     "metadata": {},
     "output_type": "execute_result"
    }
   ],
   "source": [
    "p_lucas = pc.LucasPrime(200)\n",
    "p_lucas.run()"
   ]
  },
  {
   "cell_type": "code",
   "execution_count": 170,
   "id": "6c5cb583-eecc-497d-a075-c1681fa0f594",
   "metadata": {},
   "outputs": [
    {
     "name": "stdout",
     "output_type": "stream",
     "text": [
      "Summary:\n",
      "Primes Qty - 46\n",
      "Primes Count - 46\n",
      "Primes Time - 20557.5\n",
      "Count per Time - 0.002\n",
      "Qty per Time - 0.002\n",
      "(2, 1, 0, 0)                                      (3, 1, 0, 0)\n",
      "(5, 1, 0, 0)                                      (7, 1, 783500, 783500)\n",
      "(11, 1, 976100, 976100)                           (13, 1, 0, 0)\n",
      "(17, 1, 0, 0)                                     (19, 1, 0, 0)\n",
      "(23, 1, 0, 0)                                     (29, 1, 976800, 976800)\n",
      "(31, 1, 0, 0)                                     (37, 1, 1009900, 1009900)\n",
      "(41, 1, 0, 0)                                     (43, 1, 0, 0)\n",
      "(47, 1, 0, 0)                                     (53, 1, 0, 0)\n",
      "(59, 1, 842000, 842000)                           (61, 1, 0, 0)\n",
      "(67, 1, 975900, 975900)                           (71, 1, 0, 0)\n",
      "(73, 1, 0, 0)                                     (79, 1, 1010800, 1010800)\n",
      "(83, 1, 1029500, 1029500)                         (89, 1, 765100, 765100)\n",
      "(97, 1, 0, 0)                                     (101, 1, 0, 0)\n",
      "(103, 1, 0, 0)                                    (107, 1, 975800, 975800)\n",
      "(109, 1, 978700, 978700)                          (113, 1, 975900, 975900)\n",
      "(127, 1, 1985400, 1985400)                        (131, 1, 976600, 976600)\n",
      "(137, 1, 950500, 950500)                          (139, 1, 0, 0)\n",
      "(149, 1, 976400, 976400)                          (151, 1, 0, 0)\n",
      "(157, 1, 976900, 976900)                          (163, 1, 0, 0)\n",
      "(167, 1, 0, 0)                                    (173, 1, 0, 0)\n",
      "(179, 1, 895600, 895600)                          (181, 1, 976400, 976400)\n",
      "(191, 1, 1116100, 1116100)                        (193, 1, 0, 0)\n",
      "(197, 1, 0, 0)                                    (199, 1, 403600, 403600)\n"
     ]
    },
    {
     "data": {
      "text/plain": [
       "True"
      ]
     },
     "execution_count": 170,
     "metadata": {},
     "output_type": "execute_result"
    }
   ],
   "source": [
    "p_simple = pc.SimplePrime(200)\n",
    "p_simple.run()"
   ]
  },
  {
   "cell_type": "code",
   "execution_count": 117,
   "id": "545d4378-6e2e-4703-ac8e-898697a4317d",
   "metadata": {},
   "outputs": [
    {
     "data": {
      "text/plain": [
       "1.1784091654506779"
      ]
     },
     "execution_count": 117,
     "metadata": {},
     "output_type": "execute_result"
    }
   ],
   "source": [
    "#self.emax[x] = m.ceil(log_b(self.p[x],element_cap/aprod))\n",
    "import math\n",
    "math.log(2*3*11)/math.log(5*7)"
   ]
  },
  {
   "cell_type": "code",
   "execution_count": 118,
   "id": "418b92a2-50d7-42ba-a49c-1ef95d606aed",
   "metadata": {},
   "outputs": [
    {
     "data": {
      "text/plain": [
       "0.7563041955164012"
      ]
     },
     "execution_count": 118,
     "metadata": {},
     "output_type": "execute_result"
    }
   ],
   "source": [
    "math.log(2*5)/math.log(3*7)\n"
   ]
  },
  {
   "cell_type": "code",
   "execution_count": null,
   "id": "3d0e5cda-987d-4434-b909-a59fa98db67f",
   "metadata": {},
   "outputs": [],
   "source": []
  }
 ],
 "metadata": {
  "kernelspec": {
   "display_name": "Python 3 (ipykernel)",
   "language": "python",
   "name": "python3"
  },
  "language_info": {
   "codemirror_mode": {
    "name": "ipython",
    "version": 3
   },
   "file_extension": ".py",
   "mimetype": "text/x-python",
   "name": "python",
   "nbconvert_exporter": "python",
   "pygments_lexer": "ipython3",
   "version": "3.7.11"
  }
 },
 "nbformat": 4,
 "nbformat_minor": 5
}

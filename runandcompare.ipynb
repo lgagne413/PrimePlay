{
 "cells": [
  {
   "cell_type": "code",
   "execution_count": 59,
   "id": "a56fea44-389e-49a1-8bfd-cd7c599d2611",
   "metadata": {},
   "outputs": [
    {
     "name": "stdout",
     "output_type": "stream",
     "text": [
      "The autoreload extension is already loaded. To reload it, use:\n",
      "  %reload_ext autoreload\n"
     ]
    }
   ],
   "source": [
    "import prime_class as pc\n",
    "%load_ext autoreload\n",
    "%autoreload 2"
   ]
  },
  {
   "cell_type": "code",
   "execution_count": 114,
   "id": "d980e374-8890-4a32-9010-c687b3fe7cd5",
   "metadata": {},
   "outputs": [
    {
     "name": "stdout",
     "output_type": "stream",
     "text": [
      "Running for  [[2], [3]]\n",
      "Found [5, 13, 7, 5, 7, 23, 23, 19, 11, 5, 17, 13]\n",
      "Running for  [[2], [3, 5]]\n",
      "Found [13, 11, 7, 17, 43, 41, 37, 29, 13, 19, 7, 43, 11, 31, 23]\n",
      "Running for  [[2, 5], [3]]\n",
      "Found [7, 17, 37, 47, 11, 31, 41, 17, 7, 13, 23, 41, 31, 19, 43, 7]\n",
      "Running for  [[2, 3], [5]]\n",
      "Found [7, 19, 43, 13, 31, 19, 13, 23, 7, 11, 47, 29, 29, 19, 17, 37, 23]\n",
      "Running for  [[2], [3, 5, 7]]\n",
      "Found [73, 41, 23, 59, 79, 13]\n",
      "Running for  [[2, 5, 7], [3]]\n",
      "Found [67, 61, 43, 11, 59, 37, 29, 53]\n",
      "Running for  [[2, 3, 7], [5]]\n",
      "Found [37, 79, 17, 59, 41, 43, 47, 37]\n",
      "Running for  [[2, 3, 5], [7]]\n",
      "Found [23, 53, 19, 11, 71, 41, 17, 73, 43]\n",
      "Running for  [[2, 3], [5, 7]]\n",
      "Found [29, 23, 11, 13, 61, 17, 37, 19, 73, 79, 17, 31, 67, 41, 13, 11, 53, 43, 29, 79, 73, 71, 19, 13]\n",
      "Running for  [[2, 5], [3, 7]]\n",
      "Found [11, 19, 59, 29, 79, 53, 43, 23, 17, 13, 37, 29, 11, 61, 73, 67, 17, 67, 13, 47, 53, 41, 59, 43, 73, 29]\n",
      "Running for  [[2, 7], [3, 5]]\n",
      "Found [13, 41, 31, 17, 11, 67, 53, 79, 23, 37, 61, 43, 13, 61, 61, 47, 19, 37, 23, 29, 11, 73, 17]\n",
      "Running for  [[2], [3, 5, 7, 11]]\n",
      "Found [131, 107]\n",
      "Running for  [[2, 5, 7, 11], [3]]\n",
      "Found [41]\n",
      "Running for  [[2, 3, 7, 11], [5]]\n",
      "Found [163, 109]\n",
      "Running for  [[2, 3, 5, 11], [7]]\n",
      "Found [13]\n",
      "Running for  [[2, 3, 5, 7], [11]]\n",
      "Found [89, 71, 139, 59]\n",
      "Running for  [[2, 3], [5, 7, 11]]\n",
      "Found [97, 47, 61, 101, 19, 103, 139]\n",
      "Running for  [[2, 5], [3, 7, 11]]\n",
      "Found [151, 71, 89, 131, 31, 19, 53, 107, 79, 17, 149, 19, 41]\n",
      "Running for  [[2, 7], [3, 5, 11]]\n",
      "Found [151, 137, 109, 53, 59, 67, 31, 47, 103, 83, 113, 71, 41, 139, 23]\n",
      "Running for  [[2, 11], [3, 5, 7]]\n",
      "Found [83, 61, 17, 71, 137, 139, 37, 73, 23, 19, 41, 167, 37, 31, 149]\n",
      "Running for  [[2, 7, 11], [3, 5]]\n",
      "Found [139, 109, 19, 97, 17, 137, 79, 71, 83, 59, 131, 67, 107, 47, 13]\n",
      "Running for  [[2, 5, 11], [3, 7]]\n",
      "Found [89, 47, 157, 79, 31, 127, 17, 59, 37, 73, 109, 113, 149, 71, 163]\n",
      "Running for  [[2, 5, 7], [3, 11]]\n",
      "Found [37, 107, 29, 41, 157, 17, 53, 89, 127, 47, 83, 13, 127, 31, 109, 163, 73, 97]\n",
      "Running for  [[2, 3, 11], [5, 7]]\n",
      "Found [31, 97, 163, 109, 43, 89, 23, 83, 149, 151, 19, 113, 19, 47, 151, 37, 131, 67, 127]\n",
      "Running for  [[2, 3, 7], [5, 11]]\n",
      "Found [13, 29, 113, 71, 107, 61, 149, 23, 103, 19, 31, 137, 157, 67, 101, 151, 17]\n",
      "Running for  [[2, 3, 5], [7, 11]]\n",
      "Found [47, 17, 43, 163, 13, 103, 73, 59, 61, 89, 67, 23, 113, 127, 37, 53, 97, 71]\n",
      "Summary:\n",
      "Primes Qty - 25\n",
      "Primes Count - 269\n",
      "Primes Time - 2333355248\n",
      "Per Count - 8674183\n",
      "Per Qty - 0\n",
      "(2, 1, 0, 0)                                      (3, 1, 0, 0)\n",
      "(5, 3, 207501, 69167)                             (7, 9, 454356, 50484)\n",
      "(11, 13, 5805359, 446566)                         (13, 20, 115537892, 5776894)\n",
      "(17, 20, 159270867, 7963543)                      (19, 19, 179156304, 9429279)\n",
      "(23, 17, 114103844, 6711990)                      (29, 12, 48843883, 4070323)\n",
      "(31, 13, 155034994, 11925768)                     (37, 16, 136538459, 8533653)\n",
      "(41, 14, 113920364, 8137168)                      (43, 13, 48889029, 3760694)\n",
      "(47, 12, 155639153, 12969929)                     (53, 10, 91861282, 9186128)\n",
      "(59, 10, 113090475, 11309047)                     (61, 10, 91861282, 9186128)\n",
      "(67, 10, 113090475, 11309047)                     (71, 10, 176778054, 17677805)\n",
      "(73, 11, 92555733, 8414157)                       (79, 9, 69937638, 7770848)\n",
      "(83, 5, 109618220, 21923644)                      (89, 6, 131541864, 21923644)\n",
      "(97, 5, 109618220, 21923644)\n"
     ]
    },
    {
     "data": {
      "text/plain": [
       "True"
      ]
     },
     "execution_count": 114,
     "metadata": {},
     "output_type": "execute_result"
    }
   ],
   "source": [
    "p_lucas = pc.LucasPrime(100)\n",
    "p_lucas.run()"
   ]
  },
  {
   "cell_type": "code",
   "execution_count": 109,
   "id": "6c5cb583-eecc-497d-a075-c1681fa0f594",
   "metadata": {},
   "outputs": [
    {
     "name": "stdout",
     "output_type": "stream",
     "text": [
      "Summary:\n",
      "Primes Qty - 46\n",
      "Primes Count - 46\n",
      "Primes Time - 20654100\n",
      "(2, 1, 0, 0)                  (3, 1, 0, 0)\n",
      "(5, 1, 0, 0)                  (7, 1, 0, 0)\n",
      "(11, 1, 0, 0)                 (13, 1, 871200, 871200)\n",
      "(17, 1, 976000, 976000)       (19, 1, 0, 0)\n",
      "(23, 1, 975400, 975400)       (29, 1, 824300, 824300)\n",
      "(31, 1, 975700, 975700)       (37, 1, 693600, 693600)\n",
      "(41, 1, 0, 0)                 (43, 1, 0, 0)\n",
      "(47, 1, 650400, 650400)       (53, 1, 0, 0)\n",
      "(59, 1, 0, 0)                 (61, 1, 975900, 975900)\n",
      "(67, 1, 975600, 975600)       (71, 1, 0, 0)\n",
      "(73, 1, 0, 0)                 (79, 1, 0, 0)\n",
      "(83, 1, 0, 0)                 (89, 1, 1169100, 1169100)\n",
      "(97, 1, 0, 0)                 (101, 1, 761900, 761900)\n",
      "(103, 1, 0, 0)                (107, 1, 1210800, 1210800)\n",
      "(109, 1, 0, 0)                (113, 1, 977500, 977500)\n",
      "(127, 1, 1092400, 1092400)    (131, 1, 690400, 690400)\n",
      "(137, 1, 0, 0)                (139, 1, 0, 0)\n",
      "(149, 1, 976200, 976200)      (151, 1, 0, 0)\n",
      "(157, 1, 975700, 975700)      (163, 1, 976600, 976600)\n",
      "(167, 1, 975600, 975600)      (173, 1, 0, 0)\n",
      "(179, 1, 976400, 976400)      (181, 1, 0, 0)\n",
      "(191, 1, 975900, 975900)      (193, 1, 0, 0)\n",
      "(197, 1, 977500, 977500)      (199, 1, 0, 0)\n"
     ]
    },
    {
     "data": {
      "text/plain": [
       "True"
      ]
     },
     "execution_count": 109,
     "metadata": {},
     "output_type": "execute_result"
    }
   ],
   "source": [
    "p_simple = pc.SimplePrime(200)\n",
    "p_simple.run()"
   ]
  },
  {
   "cell_type": "code",
   "execution_count": 117,
   "id": "545d4378-6e2e-4703-ac8e-898697a4317d",
   "metadata": {},
   "outputs": [
    {
     "data": {
      "text/plain": [
       "1.1784091654506779"
      ]
     },
     "execution_count": 117,
     "metadata": {},
     "output_type": "execute_result"
    }
   ],
   "source": [
    "#self.emax[x] = m.ceil(log_b(self.p[x],element_cap/aprod))\n",
    "import math\n",
    "math.log(2*3*11)/math.log(5*7)"
   ]
  },
  {
   "cell_type": "code",
   "execution_count": 118,
   "id": "418b92a2-50d7-42ba-a49c-1ef95d606aed",
   "metadata": {},
   "outputs": [
    {
     "data": {
      "text/plain": [
       "0.7563041955164012"
      ]
     },
     "execution_count": 118,
     "metadata": {},
     "output_type": "execute_result"
    }
   ],
   "source": [
    "math.log(2*5)/math.log(3*7)\n"
   ]
  },
  {
   "cell_type": "code",
   "execution_count": null,
   "id": "3d0e5cda-987d-4434-b909-a59fa98db67f",
   "metadata": {},
   "outputs": [],
   "source": []
  }
 ],
 "metadata": {
  "kernelspec": {
   "display_name": "Python 3 (ipykernel)",
   "language": "python",
   "name": "python3"
  },
  "language_info": {
   "codemirror_mode": {
    "name": "ipython",
    "version": 3
   },
   "file_extension": ".py",
   "mimetype": "text/x-python",
   "name": "python",
   "nbconvert_exporter": "python",
   "pygments_lexer": "ipython3",
   "version": "3.7.11"
  }
 },
 "nbformat": 4,
 "nbformat_minor": 5
}

{
 "cells": [
  {
   "cell_type": "code",
   "execution_count": 59,
   "id": "a56fea44-389e-49a1-8bfd-cd7c599d2611",
   "metadata": {},
   "outputs": [
    {
     "name": "stdout",
     "output_type": "stream",
     "text": [
      "The autoreload extension is already loaded. To reload it, use:\n",
      "  %reload_ext autoreload\n"
     ]
    }
   ],
   "source": [
    "import prime_class as pc\n",
    "%load_ext autoreload\n",
    "%autoreload 2"
   ]
  },
  {
   "cell_type": "code",
   "execution_count": 158,
   "id": "d980e374-8890-4a32-9010-c687b3fe7cd5",
   "metadata": {},
   "outputs": [
    {
     "name": "stdout",
     "output_type": "stream",
     "text": [
      "Finding Combinations  1\n",
      "Found 12 (0.833) Primes for [[2], [3]] in 6 loops\n",
      "Finding Combinations  3\n",
      "Found 15 (0.567) Primes for [[2], [3, 5]] in 37 loops\n",
      "Found 18 (0.433) Primes for [[2, 5], [3]] in 127 loops\n",
      "Found 18 (0.367) Primes for [[2, 3], [5]] in 113 loops\n",
      "Summary:\n",
      "Primes Qty - 9\n",
      "Primes Count - 45\n",
      "Primes Time - 3258.63\n",
      "Count per Time - 0.014\n",
      "Qty per Time - 0.003\n",
      "(2, 1, 0, 0)                                      (3, 1, 0, 0)\n",
      "(5, 3, 216900, 72300)                             (7, 10, 761640, 76164)\n",
      "(11, 5, 380820, 76164)                            (13, 8, 607380, 75922)\n",
      "(17, 5, 380820, 76164)                            (19, 6, 457950, 76325)\n",
      "(23, 6, 453120, 75520)\n"
     ]
    },
    {
     "data": {
      "text/plain": [
       "True"
      ]
     },
     "execution_count": 158,
     "metadata": {},
     "output_type": "execute_result"
    }
   ],
   "source": [
    "p_lucas = pc.LucasPrime(26)\n",
    "p_lucas.run()"
   ]
  },
  {
   "cell_type": "code",
   "execution_count": 149,
   "id": "6c5cb583-eecc-497d-a075-c1681fa0f594",
   "metadata": {},
   "outputs": [
    {
     "name": "stdout",
     "output_type": "stream",
     "text": [
      "Summary:\n",
      "Primes Qty - 25\n",
      "Primes Count - 25\n",
      "Primes Time - 8683.0\n",
      "Count per Time - 0.003\n",
      "Qty per Time - 0.003\n",
      "(2, 1, 0, 0)                                      (3, 1, 0, 0)\n",
      "(5, 1, 961600, 961600)                            (7, 1, 974500, 974500)\n",
      "(11, 1, 0, 0)                                     (13, 1, 0, 0)\n",
      "(17, 1, 0, 0)                                     (19, 1, 0, 0)\n",
      "(23, 1, 0, 0)                                     (29, 1, 1013600, 1013600)\n",
      "(31, 1, 976100, 976100)                           (37, 1, 0, 0)\n",
      "(41, 1, 976200, 976200)                           (43, 1, 928800, 928800)\n",
      "(47, 1, 0, 0)                                     (53, 1, 0, 0)\n",
      "(59, 1, 0, 0)                                     (61, 1, 0, 0)\n",
      "(67, 1, 976200, 976200)                           (71, 1, 868100, 868100)\n",
      "(73, 1, 0, 0)                                     (79, 1, 0, 0)\n",
      "(83, 1, 0, 0)                                     (89, 1, 0, 0)\n",
      "(97, 1, 1007900, 1007900)\n"
     ]
    },
    {
     "data": {
      "text/plain": [
       "True"
      ]
     },
     "execution_count": 149,
     "metadata": {},
     "output_type": "execute_result"
    }
   ],
   "source": [
    "p_simple = pc.SimplePrime(100)\n",
    "p_simple.run()"
   ]
  },
  {
   "cell_type": "code",
   "execution_count": 117,
   "id": "545d4378-6e2e-4703-ac8e-898697a4317d",
   "metadata": {},
   "outputs": [
    {
     "data": {
      "text/plain": [
       "1.1784091654506779"
      ]
     },
     "execution_count": 117,
     "metadata": {},
     "output_type": "execute_result"
    }
   ],
   "source": [
    "#self.emax[x] = m.ceil(log_b(self.p[x],element_cap/aprod))\n",
    "import math\n",
    "math.log(2*3*11)/math.log(5*7)"
   ]
  },
  {
   "cell_type": "code",
   "execution_count": 118,
   "id": "418b92a2-50d7-42ba-a49c-1ef95d606aed",
   "metadata": {},
   "outputs": [
    {
     "data": {
      "text/plain": [
       "0.7563041955164012"
      ]
     },
     "execution_count": 118,
     "metadata": {},
     "output_type": "execute_result"
    }
   ],
   "source": [
    "math.log(2*5)/math.log(3*7)\n"
   ]
  },
  {
   "cell_type": "code",
   "execution_count": null,
   "id": "3d0e5cda-987d-4434-b909-a59fa98db67f",
   "metadata": {},
   "outputs": [],
   "source": []
  }
 ],
 "metadata": {
  "kernelspec": {
   "display_name": "Python 3 (ipykernel)",
   "language": "python",
   "name": "python3"
  },
  "language_info": {
   "codemirror_mode": {
    "name": "ipython",
    "version": 3
   },
   "file_extension": ".py",
   "mimetype": "text/x-python",
   "name": "python",
   "nbconvert_exporter": "python",
   "pygments_lexer": "ipython3",
   "version": "3.7.11"
  }
 },
 "nbformat": 4,
 "nbformat_minor": 5
}

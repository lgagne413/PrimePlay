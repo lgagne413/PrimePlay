{
 "cells": [
  {
   "cell_type": "markdown",
   "id": "d1ced15b-983e-4bd1-abf7-534709ff3c09",
   "metadata": {},
   "source": [
    "## TODO\n",
    "Create views etc \n",
    "   - one for primes\n",
    "   - one for complete factorizations"
   ]
  },
  {
   "cell_type": "code",
   "execution_count": 1,
   "id": "0c85f472-f271-4c02-a268-d3cf8037ffe8",
   "metadata": {},
   "outputs": [
    {
     "name": "stdout",
     "output_type": "stream",
     "text": [
      "[2, 3, 5, 7]\n"
     ]
    }
   ],
   "source": [
    "import pandas\n",
    "import math\n",
    "import itertools\n",
    "import sqlite3\n",
    "\n",
    "def get_primes(n,talk=False):\n",
    "    n=math.floor(n)\n",
    "    if talk:print('primes - {}'.format(n))\n",
    "    con = sqlite3.connect('data/primeplay.db')\n",
    "    t=int(con.execute('select max(number) from intfactors').fetchall()[0][0])\n",
    "    if t>=n:\n",
    "        primes=[x[0] for x in con.execute('select number from intfactors where remainder=1 and number <=?',[n]).fetchall()]\n",
    "        con.close()\n",
    "        return primes\n",
    "    while t<=n:\n",
    "        t+=1\n",
    "        if talk:print ('num: {}                                  '.format(t), end=\"\\r\")\n",
    "        \n",
    "        primeflag=True\n",
    "        for p in [x[0] for x in con.execute('select number from intfactors where remainder=1 and number <?',[int(t/2+1)]).fetchall()]:\n",
    "            if t%p==0:\n",
    "                primeflag=False\n",
    "                con.execute('INSERT or ignore INTO intfactors VALUES (?,?,?)',(t,p,t/p))\n",
    "                break\n",
    "        if primeflag:con.execute('INSERT or ignore INTO intfactors VALUES (?,?,?)',(t,t,1))      \n",
    "        con.commit()  \n",
    "    \n",
    "    primes=[x[0] for x in con.execute('select number from intfactors where remainder=1').fetchall()]\n",
    "    con.close()\n",
    "    if talk:print('primes - {} - complete'.format(n))\n",
    "    return primes\n",
    "\n",
    "def factorize(x,talk=False):\n",
    "    t=int(x)\n",
    "    get_primes(x/2)\n",
    "    factors=[]\n",
    "    con = sqlite3.connect('data/primeplay.db')\n",
    "    while t != 1:\n",
    "        num,pf,rem= con.execute('select * from intfactors where number = ?',[t]).fetchall()[0]\n",
    "        factors.append(pf)\n",
    "        t=rem\n",
    "    con.close()\n",
    "    if talk:print ('num: {} factors: {}                                   '.format(t,factors), end=\"\\r\")\n",
    "    return factors\n",
    "print(get_primes(10))"
   ]
  },
  {
   "cell_type": "code",
   "execution_count": null,
   "id": "aa770286-7b26-4684-aebc-1252d6386eca",
   "metadata": {},
   "outputs": [],
   "source": [
    "\n",
    "A=[2,-2]\n",
    "B=[3,-3]\n",
    "    \n",
    "x=[a for a in range(3,20)]\n",
    "y=[a for a in range(3,20)]\n",
    "print('x,y')\n",
    "\n",
    "r=[]\n",
    "for a1,b1,x1,y1 in itertools.product(A,B,x,y):\n",
    "    if not (abs(a1)==abs(b1)) and not (a1<0 and x1%2==0) and not (b1<0 and y1%2==0) and math.gcd(a1,b1)==1:\n",
    "        r.append((a1,x1,b1,y1))\n",
    "print('r')\n",
    "\n",
    "z=[abs(r1[0]**r1[1]+r1[2]**r1[3]) for r1 in r]\n",
    "print('z')\n",
    "\n",
    "print('primes')\n",
    "PRIMES=get_primes(max(z)/2,talk=True)\n",
    "print('primes complete'+' '*30)\n",
    "\n",
    "print('factors')\n",
    "p=[factorize(z1,talk=True) for z1 in z]\n",
    "print('factors complete'+' '*30)\n",
    "\n",
    "c=[]\n",
    "for l in p:\n",
    "    c1=0\n",
    "    for x in l:\n",
    "        if l.count(x) %3==0:\n",
    "            c1=1\n",
    "            break\n",
    "    c.append(c1)\n",
    "\n",
    "df=pandas.DataFrame(data={'A':[r1[0] for r1 in r],'x':[r1[1] for r1 in r],'B':[r1[2] for r1 in r],'y':[r1[3] for r1 in r],'z':[z1 for z1 in z],'p':p,\n",
    "                         '|p|':[len(p1) for p1 in p],'c':c})\n",
    "\n",
    "print(df[df['c']>0].to_string())"
   ]
  },
  {
   "cell_type": "code",
   "execution_count": 74,
   "id": "bed74a5f-6ed7-4bd1-9b58-11fc1eed1280",
   "metadata": {},
   "outputs": [
    {
     "name": "stdout",
     "output_type": "stream",
     "text": [
      "Loading....\r"
     ]
    }
   ],
   "source": [
    "import time\n",
    "for x in range (0,5):  \n",
    "    b = \"Loading\" + \".\" * x\n",
    "    print (b, end=\"\\r\")\n",
    "    time.sleep(1)"
   ]
  },
  {
   "cell_type": "markdown",
   "id": "03b01c0b-799e-4184-9123-915f4fdc5e91",
   "metadata": {},
   "source": [
    " - https://www.tutorialspoint.com/python_network_programming/python_databases_and_sql.htm\n",
    "\n",
    " - https://docs.python.org/3/library/sqlite3.html\n",
    "\n",
    " - https://docs.python.org/3/library/sqlite3.html#using-sqlite3-efficiently\n",
    "\n",
    " - https://docs.python.org/3/library/sqlite3.html#sqlite3.Cursor.executemany"
   ]
  },
  {
   "cell_type": "code",
   "execution_count": 11,
   "id": "716c8f26-85ba-4dc3-9806-15070e854d25",
   "metadata": {},
   "outputs": [
    {
     "name": "stdout",
     "output_type": "stream",
     "text": [
      "520711\n"
     ]
    }
   ],
   "source": [
    "con = sqlite3.connect('data/primeplay.db')\n",
    "\n",
    "x=con.execute('select max(number) from intfactors').fetchall()[0][0]\n",
    "print(x[0][0])\n",
    "con.close()"
   ]
  },
  {
   "cell_type": "code",
   "execution_count": 25,
   "id": "9862d58b-5edc-40e7-9fad-285bb00a593d",
   "metadata": {},
   "outputs": [
    {
     "name": "stdout",
     "output_type": "stream",
     "text": [
      "Empty DataFrame\n",
      "Columns: [A, x, B, y, z, p, |p|, c]\n",
      "Index: []\n"
     ]
    }
   ],
   "source": [
    "print(df[df['c']>0].to_string())"
   ]
  },
  {
   "cell_type": "code",
   "execution_count": 44,
   "id": "44c67bc8-aab4-4176-a13e-9da07d09ce3a",
   "metadata": {},
   "outputs": [
    {
     "name": "stdout",
     "output_type": "stream",
     "text": [
      "[((1,), (2, 3, 5, 7, 11)), ((2,), (3, 5, 7, 11)), ((3,), (2, 5, 7, 11)), ((5,), (2, 3, 7, 11)), ((7,), (2, 3, 5, 11)), ((11,), (2, 3, 5, 7)), ((2, 3), (5, 7, 11)), ((2, 5), (3, 7, 11)), ((2, 7), (3, 5, 11)), ((2, 11), (3, 5, 7)), ((3, 5), (2, 7, 11)), ((3, 7), (2, 5, 11)), ((3, 11), (2, 5, 7)), ((5, 7), (2, 3, 11)), ((5, 11), (2, 3, 7)), ((7, 11), (2, 3, 5))]\n"
     ]
    }
   ],
   "source": [
    "\n",
    "def run_sumOfPrimeProd(pmax):\n",
    "    con = sqlite3.connect('data/primeplay.db')\n",
    "    primes=[x[0] for x in con.execute('select number from intfactors where remainder=1 and number <=?',[pmax]).fetchall()]\n",
    "    con.close()\n",
    "    \n",
    "    combs=[]\n",
    "    for c in range(len(primes)+1):\n",
    "        combs.append([])\n",
    "        for x in itertools.combinations(primes,c):\n",
    "            if x==():x=(1,)      \n",
    "            combs[c].append(x)\n",
    "\n",
    "    a=combs[:len(combs)//2]\n",
    "    b=[x[::-1] for x in combs[len(combs)//2:][::-1]]\n",
    "    \n",
    "    factors=[]\n",
    "    for x1 in range(len(a)):\n",
    "        for x2 in range(len(a[x1])):\n",
    "            factors.append((a[x1][x2],b[x1][x2]))\n",
    "            \n",
    "    #for Beals\n",
    "    #Set A,B,x,y\n",
    "    #consider A^x+B^y - don't forget -A and -B |A^x-B^y|\n",
    "    #test z from z^(1/3) until z^(1/n)<2\n",
    "    #how to increment A,B,x,y?\n",
    "    \n",
    "    #for primeplay\n",
    "    #x0=ln((M+-b0^y0*b1^y1...)/(a1^x1*a2^x2))/ln(a0)\n",
    "    #y0=ln((M+-a0^x0*a1^x1...)/(b1^y1*b2^y2))/ln(b0)\n",
    "    #lower limit 1, upper limit function above, to some tolerance defined by y0 below\n",
    "    #y0=(x0*ln(a0)+x1*ln(a1)+...-y1*ln(b1)-y2*ln(b2)-...)/(ln(b0)) #for large x etc approaches this\n",
    "    \n",
    "run_sumOfPrimeProd(11)"
   ]
  },
  {
   "cell_type": "code",
   "execution_count": null,
   "id": "7ee4cfe9-9b28-4859-868b-d16e345b0911",
   "metadata": {},
   "outputs": [],
   "source": []
  }
 ],
 "metadata": {
  "kernelspec": {
   "display_name": "Python 3 (ipykernel)",
   "language": "python",
   "name": "python3"
  },
  "language_info": {
   "codemirror_mode": {
    "name": "ipython",
    "version": 3
   },
   "file_extension": ".py",
   "mimetype": "text/x-python",
   "name": "python",
   "nbconvert_exporter": "python",
   "pygments_lexer": "ipython3",
   "version": "3.7.11"
  }
 },
 "nbformat": 4,
 "nbformat_minor": 5
}

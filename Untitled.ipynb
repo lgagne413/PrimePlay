{
 "cells": [
  {
   "cell_type": "code",
   "execution_count": 94,
   "id": "64542644-917c-4140-80d2-1002c3dd050a",
   "metadata": {},
   "outputs": [
    {
     "name": "stdout",
     "output_type": "stream",
     "text": [
      "primes complete\n"
     ]
    }
   ],
   "source": [
    "import pandas\n",
    "import math\n",
    "\n",
    "def get_primes(n):\n",
    "    fh=open('primes.txt','r')\n",
    "    primes=[int(a.strip()) for a in fh.read().split(',')]\n",
    "    fh.close()\n",
    "    botlimit=max(primes)\n",
    "    toplimit = n\n",
    "\n",
    "    sieve = [True for i in range(toplimit + 1)]\n",
    "    for p in primes:\n",
    "        for n in range(p**2, toplimit + 1, p):\n",
    "            sieve[n] = False\n",
    "    a = botlimit+1\n",
    "    while a ** 2 <= toplimit:\n",
    "        print (a, end=\"\\r\")\n",
    "        if sieve[a] == True:\n",
    "            for b in range(a ** 2, toplimit + 1, a):\n",
    "                sieve[b] = False\n",
    "        a += 1\n",
    "    for a in range(botlimit+1, toplimit + 1):\n",
    "        if sieve[a] == True:\n",
    "            primes.append(a)\n",
    "            fh=open('primes.txt','a')\n",
    "            fh.write(','+str(a))\n",
    "            fh.close()\n",
    "    print('primes complete', end='\\n')\n",
    "    return primes\n",
    "\n",
    "def factorize(x):\n",
    "    o=x\n",
    "    primes = PRIMES\n",
    "    factor_save=FACTORS\n",
    "    factors = []\n",
    "    xt=0\n",
    "    while x != 1:\n",
    "        print (o,x, end=\"\\r\")\n",
    "        if xt==x:raise ValueError('No prime factor found {}'.format(x))\n",
    "        else:xt=x\n",
    "        if x in factor_save: \n",
    "            factors.extend(factor_save[x])\n",
    "            save_factors(o,factors)\n",
    "            return factors\n",
    "        for i in primes:\n",
    "            if x % i == 0:\n",
    "                factors.append(i)\n",
    "                x = x / i\n",
    "                break\n",
    "\n",
    "    save_factors(o,factors) \n",
    "    \n",
    "    return factors\n",
    "\n",
    "def get_factors():\n",
    "    fh=open('factors.txt','r')\n",
    "    f1=fh.read().split('\\n')\n",
    "    f2=[f.split(':') for f in f1]\n",
    "    factors={int(x[0]) : [int(x) for x in x[1].split(',')] for x in f2}\n",
    "    return factors\n",
    "def save_factors(x,f):\n",
    "    fh=open('factors.txt','a')\n",
    "    s='\\n'+str(x)+':'\n",
    "    for x in range(len(f)):\n",
    "        s+=str(f[x])\n",
    "        if x!=len(f)-1:s+=','\n",
    "    fh.write(s)\n",
    "    fh.close()\n",
    "    \n",
    "PRIMES=get_primes(100)\n",
    "FACTORS=get_factors()"
   ]
  },
  {
   "cell_type": "code",
   "execution_count": 105,
   "id": "1d6d2318-eb14-4217-8179-52da711771eb",
   "metadata": {},
   "outputs": [
    {
     "name": "stdout",
     "output_type": "stream",
     "text": [
      "primes complete\n",
      "retrieved saved factors\n",
      "x,y\n",
      "r\n",
      "z\n",
      "primes\n"
     ]
    },
    {
     "ename": "MemoryError",
     "evalue": "",
     "output_type": "error",
     "traceback": [
      "\u001b[1;31m---------------------------------------------------------------------------\u001b[0m",
      "\u001b[1;31mMemoryError\u001b[0m                               Traceback (most recent call last)",
      "\u001b[1;32m~\\AppData\\Local\\Temp/ipykernel_8748/3143841860.py\u001b[0m in \u001b[0;36m<module>\u001b[1;34m\u001b[0m\n\u001b[0;32m     27\u001b[0m \u001b[1;33m\u001b[0m\u001b[0m\n\u001b[0;32m     28\u001b[0m \u001b[0mprint\u001b[0m\u001b[1;33m(\u001b[0m\u001b[1;34m'primes'\u001b[0m\u001b[1;33m)\u001b[0m\u001b[1;33m\u001b[0m\u001b[1;33m\u001b[0m\u001b[0m\n\u001b[1;32m---> 29\u001b[1;33m \u001b[0mPRIMES\u001b[0m\u001b[1;33m=\u001b[0m\u001b[0mget_primes\u001b[0m\u001b[1;33m(\u001b[0m\u001b[0mmax\u001b[0m\u001b[1;33m(\u001b[0m\u001b[0mz\u001b[0m\u001b[1;33m)\u001b[0m\u001b[1;33m)\u001b[0m\u001b[1;33m\u001b[0m\u001b[1;33m\u001b[0m\u001b[0m\n\u001b[0m\u001b[0;32m     30\u001b[0m \u001b[1;33m\u001b[0m\u001b[0m\n\u001b[0;32m     31\u001b[0m \u001b[0mprint\u001b[0m\u001b[1;33m(\u001b[0m\u001b[1;34m'factors'\u001b[0m\u001b[1;33m)\u001b[0m\u001b[1;33m\u001b[0m\u001b[1;33m\u001b[0m\u001b[0m\n",
      "\u001b[1;32m~\\AppData\\Local\\Temp/ipykernel_8748/221674321.py\u001b[0m in \u001b[0;36mget_primes\u001b[1;34m(n)\u001b[0m\n\u001b[0;32m      9\u001b[0m     \u001b[0mtoplimit\u001b[0m \u001b[1;33m=\u001b[0m \u001b[0mn\u001b[0m\u001b[1;33m\u001b[0m\u001b[1;33m\u001b[0m\u001b[0m\n\u001b[0;32m     10\u001b[0m \u001b[1;33m\u001b[0m\u001b[0m\n\u001b[1;32m---> 11\u001b[1;33m     \u001b[0msieve\u001b[0m \u001b[1;33m=\u001b[0m \u001b[1;33m[\u001b[0m\u001b[1;32mTrue\u001b[0m \u001b[1;32mfor\u001b[0m \u001b[0mi\u001b[0m \u001b[1;32min\u001b[0m \u001b[0mrange\u001b[0m\u001b[1;33m(\u001b[0m\u001b[0mtoplimit\u001b[0m \u001b[1;33m+\u001b[0m \u001b[1;36m1\u001b[0m\u001b[1;33m)\u001b[0m\u001b[1;33m]\u001b[0m\u001b[1;33m\u001b[0m\u001b[1;33m\u001b[0m\u001b[0m\n\u001b[0m\u001b[0;32m     12\u001b[0m     \u001b[1;32mfor\u001b[0m \u001b[0mp\u001b[0m \u001b[1;32min\u001b[0m \u001b[0mprimes\u001b[0m\u001b[1;33m:\u001b[0m\u001b[1;33m\u001b[0m\u001b[1;33m\u001b[0m\u001b[0m\n\u001b[0;32m     13\u001b[0m         \u001b[1;32mfor\u001b[0m \u001b[0mn\u001b[0m \u001b[1;32min\u001b[0m \u001b[0mrange\u001b[0m\u001b[1;33m(\u001b[0m\u001b[0mp\u001b[0m\u001b[1;33m**\u001b[0m\u001b[1;36m2\u001b[0m\u001b[1;33m,\u001b[0m \u001b[0mtoplimit\u001b[0m \u001b[1;33m+\u001b[0m \u001b[1;36m1\u001b[0m\u001b[1;33m,\u001b[0m \u001b[0mp\u001b[0m\u001b[1;33m)\u001b[0m\u001b[1;33m:\u001b[0m\u001b[1;33m\u001b[0m\u001b[1;33m\u001b[0m\u001b[0m\n",
      "\u001b[1;32m~\\AppData\\Local\\Temp/ipykernel_8748/221674321.py\u001b[0m in \u001b[0;36m<listcomp>\u001b[1;34m(.0)\u001b[0m\n\u001b[0;32m      9\u001b[0m     \u001b[0mtoplimit\u001b[0m \u001b[1;33m=\u001b[0m \u001b[0mn\u001b[0m\u001b[1;33m\u001b[0m\u001b[1;33m\u001b[0m\u001b[0m\n\u001b[0;32m     10\u001b[0m \u001b[1;33m\u001b[0m\u001b[0m\n\u001b[1;32m---> 11\u001b[1;33m     \u001b[0msieve\u001b[0m \u001b[1;33m=\u001b[0m \u001b[1;33m[\u001b[0m\u001b[1;32mTrue\u001b[0m \u001b[1;32mfor\u001b[0m \u001b[0mi\u001b[0m \u001b[1;32min\u001b[0m \u001b[0mrange\u001b[0m\u001b[1;33m(\u001b[0m\u001b[0mtoplimit\u001b[0m \u001b[1;33m+\u001b[0m \u001b[1;36m1\u001b[0m\u001b[1;33m)\u001b[0m\u001b[1;33m]\u001b[0m\u001b[1;33m\u001b[0m\u001b[1;33m\u001b[0m\u001b[0m\n\u001b[0m\u001b[0;32m     12\u001b[0m     \u001b[1;32mfor\u001b[0m \u001b[0mp\u001b[0m \u001b[1;32min\u001b[0m \u001b[0mprimes\u001b[0m\u001b[1;33m:\u001b[0m\u001b[1;33m\u001b[0m\u001b[1;33m\u001b[0m\u001b[0m\n\u001b[0;32m     13\u001b[0m         \u001b[1;32mfor\u001b[0m \u001b[0mn\u001b[0m \u001b[1;32min\u001b[0m \u001b[0mrange\u001b[0m\u001b[1;33m(\u001b[0m\u001b[0mp\u001b[0m\u001b[1;33m**\u001b[0m\u001b[1;36m2\u001b[0m\u001b[1;33m,\u001b[0m \u001b[0mtoplimit\u001b[0m \u001b[1;33m+\u001b[0m \u001b[1;36m1\u001b[0m\u001b[1;33m,\u001b[0m \u001b[0mp\u001b[0m\u001b[1;33m)\u001b[0m\u001b[1;33m:\u001b[0m\u001b[1;33m\u001b[0m\u001b[1;33m\u001b[0m\u001b[0m\n",
      "\u001b[1;31mMemoryError\u001b[0m: "
     ]
    }
   ],
   "source": [
    "PRIMES=get_primes(100)\n",
    "FACTORS=get_factors()\n",
    "print('retrieved saved factors')\n",
    "\n",
    "A=[p for p in PRIMES[0:5]]\n",
    "for a in range(len(A)): \n",
    "    A.append(-1*A[a])\n",
    "B=[p for p in PRIMES[0:5]]\n",
    "for a in range(len(B)): \n",
    "    B.append(-1*B[a])\n",
    "    \n",
    "x=[a for a in range(3,10)]\n",
    "y=[a for a in range(3,10)]\n",
    "print('x,y')\n",
    "\n",
    "r=[]\n",
    "for a1 in A: \n",
    "    for b1 in B: \n",
    "        if abs(a1)!=abs(b1): \n",
    "            for x1 in x: \n",
    "                for y1 in y: \n",
    "                    r.append((a1,x1,b1,y1))\n",
    "print('r')\n",
    "\n",
    "z=[abs(r1[0]**r1[1]+r1[2]**r1[3]) for r1 in r]\n",
    "print('z')\n",
    "\n",
    "print('primes')\n",
    "PRIMES=get_primes(max(z))\n",
    "\n",
    "print('factors')\n",
    "p=[factorize(z1) for z1 in z]\n",
    "print('factors complete')\n",
    "for l in p:\n",
    "    for x in l:\n",
    "        if l.count(x) %3==0:\n",
    "            print('HEY : ',l)\n",
    "            break\n",
    "\n",
    "df=pandas.DataFrame(data={'A':[r1[0] for r1 in r],'x':[r1[1] for r1 in r],'B':[r1[2] for r1 in r],'y':[r1[3] for r1 in r],'z':[z1 for z1 in z],'p':p})\n",
    "\n",
    "print(df.to_string())"
   ]
  },
  {
   "cell_type": "code",
   "execution_count": 74,
   "id": "bed74a5f-6ed7-4bd1-9b58-11fc1eed1280",
   "metadata": {},
   "outputs": [
    {
     "name": "stdout",
     "output_type": "stream",
     "text": [
      "Loading....\r"
     ]
    }
   ],
   "source": [
    "import time\n",
    "for x in range (0,5):  \n",
    "    b = \"Loading\" + \".\" * x\n",
    "    print (b, end=\"\\r\")\n",
    "    time.sleep(1)"
   ]
  },
  {
   "cell_type": "code",
   "execution_count": null,
   "id": "a3125364-86f6-4e2d-862d-3ecdfc66df7c",
   "metadata": {},
   "outputs": [],
   "source": []
  }
 ],
 "metadata": {
  "kernelspec": {
   "display_name": "Python 3 (ipykernel)",
   "language": "python",
   "name": "python3"
  },
  "language_info": {
   "codemirror_mode": {
    "name": "ipython",
    "version": 3
   },
   "file_extension": ".py",
   "mimetype": "text/x-python",
   "name": "python",
   "nbconvert_exporter": "python",
   "pygments_lexer": "ipython3",
   "version": "3.7.13"
  }
 },
 "nbformat": 4,
 "nbformat_minor": 5
}

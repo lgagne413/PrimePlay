{
 "cells": [
  {
   "cell_type": "code",
   "execution_count": 2,
   "id": "211513ec-a873-4102-b648-48e9adadd8c9",
   "metadata": {},
   "outputs": [],
   "source": [
    "import sqlite3"
   ]
  },
  {
   "cell_type": "code",
   "execution_count": 4,
   "id": "409f0ec8-27a7-4858-a409-43f63ae54970",
   "metadata": {},
   "outputs": [],
   "source": [
    "\n",
    "#setup - complete\n",
    "con = sqlite3.connect('data/primeplay.db')\n",
    "cur = con.cursor()\n",
    "\n",
    "# Create table\n",
    "cur.execute('drop table intfactors')\n",
    "cur.execute('''CREATE TABLE intfactors\n",
    "               (number int primary key not null\n",
    "               , primefactor int\n",
    "               ,remainder int);''')\n",
    "\n",
    "# Insert a row of data\n",
    "cur.execute(\"INSERT INTO intfactors VALUES (2,2,1),(3,3,1),(4,2,2),(5,5,1)\")\n",
    "\n",
    "# Save (commit) the changes\n",
    "con.commit()\n",
    "\n",
    "# We can also close the connection if we are done with it.\n",
    "# Just be sure any changes have been committed or they will be lost.\n",
    "con.close()"
   ]
  },
  {
   "cell_type": "code",
   "execution_count": null,
   "id": "8e3e2786-b5e5-44e2-a47b-f960c5f23345",
   "metadata": {},
   "outputs": [],
   "source": []
  }
 ],
 "metadata": {
  "kernelspec": {
   "display_name": "Python 3 (ipykernel)",
   "language": "python",
   "name": "python3"
  },
  "language_info": {
   "codemirror_mode": {
    "name": "ipython",
    "version": 3
   },
   "file_extension": ".py",
   "mimetype": "text/x-python",
   "name": "python",
   "nbconvert_exporter": "python",
   "pygments_lexer": "ipython3",
   "version": "3.7.11"
  }
 },
 "nbformat": 4,
 "nbformat_minor": 5
}
